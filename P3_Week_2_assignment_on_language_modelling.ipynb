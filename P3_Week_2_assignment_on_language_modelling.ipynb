{
  "nbformat": 4,
  "nbformat_minor": 0,
  "metadata": {
    "colab": {
      "name": "Week 2 assignment on language modelling.ipynb",
      "version": "0.3.2",
      "provenance": [],
      "collapsed_sections": [
        "2Ik8Ib6sd9u-",
        "gFX41FFcd9u-"
      ]
    },
    "kernelspec": {
      "display_name": "Python 3",
      "language": "python",
      "name": "python3"
    }
  },
  "cells": [
    {
      "metadata": {
        "collapsed": true,
        "id": "GBpJoru1d9tH",
        "colab_type": "text"
      },
      "cell_type": "markdown",
      "source": [
        "# Programming assignment 2: Recognize named entities on Twitter with LSTMs\n",
        "\n",
        "In this assignment, you will use a recurrent neural network to solve Named Entity Recognition (NER) problem. NER is a common task in natural language processing systems. It serves for extraction such entities from the text as persons, organizations, locations, etc. In this task you will experiment to recognize named entities from Twitter.\n",
        "\n",
        "For example, we want to extract persons' and organizations' names from the text. Than for the input text:\n",
        "\n",
        "    Ian Goodfellow works for Google Brain\n",
        "\n",
        "a NER model needs to provide the following sequence of tags:\n",
        "\n",
        "    B-PER I-PER    O     O   B-ORG  I-ORG\n",
        "\n",
        "Where *B-* and *I-* prefixes stand for the beginning and inside of the entity, while *O* stands for out of tag or no tag. Markup with the prefix scheme is called *BIO markup*. This markup is introduced for distinguishing of consequent entities with similar types.\n",
        "\n",
        "A solution of the task will be based on neural networks, particularly, on Bi-Directional Long Short-Term Memory Networks (Bi-LSTMs).\n",
        "\n",
        "### Libraries\n",
        "\n",
        "For this task you will need the following libraries:\n",
        " - [Tensorflow](https://www.tensorflow.org) — an open-source software library for Machine Intelligence.\n",
        " - [Numpy](http://www.numpy.org) — a package for scientific computing.\n",
        " \n",
        "If you have never worked with Tensorflow, you would probably need to read some tutorials during your work on this assignment, e.g. [this one](https://www.tensorflow.org/tutorials/recurrent) could be a good starting point. "
      ]
    },
    {
      "metadata": {
        "id": "RAdEHJBzd9tI",
        "colab_type": "text"
      },
      "cell_type": "markdown",
      "source": [
        "### Data\n",
        "\n",
        "The following cell will download all data required for this assignment into the folder `week2/data`."
      ]
    },
    {
      "metadata": {
        "id": "yximb27qd9tI",
        "colab_type": "code",
        "colab": {
          "base_uri": "https://localhost:8080/",
          "height": 71
        },
        "outputId": "22859d6d-9fbb-4571-8dac-294a4c23b70b"
      },
      "cell_type": "code",
      "source": [
        "import sys\n",
        "sys.path.append(\"../..\")\n",
        "from common.download_utils import download_week2_resources\n",
        "\n",
        "download_week2_resources()"
      ],
      "execution_count": 1,
      "outputs": [
        {
          "output_type": "stream",
          "text": [
            "File data/train.txt is already downloaded.\n",
            "File data/validation.txt is already downloaded.\n",
            "File data/test.txt is already downloaded.\n"
          ],
          "name": "stdout"
        }
      ]
    },
    {
      "metadata": {
        "id": "SAasZ_GSd9tN",
        "colab_type": "text"
      },
      "cell_type": "markdown",
      "source": [
        "### Load the Twitter Named Entity Recognition corpus\n",
        "\n",
        "We will work with a corpus, which contains twits with NE tags. Every line of a file contains a pair of a token (word/punctuation symbol) and a tag, separated by a whitespace. Different tweets are separated by an empty line.\n",
        "\n",
        "The function *read_data* reads a corpus from the *file_path* and returns two lists: one with tokens and one with the corresponding tags. You need to complete this function by adding a code, which will replace a user's nickname to `<USR>` token and any URL to `<URL>` token. You could think that a URL and a nickname are just strings which start with *http://* or *https://* in case of URLs and a *@* symbol for nicknames."
      ]
    },
    {
      "metadata": {
        "id": "uyKQtEWMd9tO",
        "colab_type": "code",
        "colab": {}
      },
      "cell_type": "code",
      "source": [
        "def read_data(file_path):\n",
        "    tokens = []\n",
        "    tags = []\n",
        "    \n",
        "    tweet_tokens = []\n",
        "    tweet_tags = []\n",
        "    for line in open(file_path, encoding='utf-8'):\n",
        "        line = line.strip()\n",
        "        if not line:\n",
        "            if tweet_tokens:\n",
        "                tokens.append(tweet_tokens)\n",
        "                tags.append(tweet_tags)\n",
        "            tweet_tokens = []\n",
        "            tweet_tags = []\n",
        "        else:\n",
        "            token, tag = line.split()\n",
        "            \n",
        "            # Replace all urls with <URL> token\n",
        "            # Replace all users with <USR> token\n",
        "\n",
        "            if token.startswith('http://')==True or token.startswith('https://')==True:\n",
        "                token = '<URL>'\n",
        "                \n",
        "            elif token.startswith('@')==True:\n",
        "                token = '<USR>'\n",
        "            \n",
        "            tweet_tokens.append(token)\n",
        "            tweet_tags.append(tag)\n",
        "            \n",
        "    return tokens, tags"
      ],
      "execution_count": 0,
      "outputs": []
    },
    {
      "metadata": {
        "id": "TsIw9ngEd9tR",
        "colab_type": "text"
      },
      "cell_type": "markdown",
      "source": [
        "And now we can load three separate parts of the dataset:\n",
        " - *train* data for training the model;\n",
        " - *validation* data for evaluation and hyperparameters tuning;\n",
        " - *test* data for final evaluation of the model."
      ]
    },
    {
      "metadata": {
        "id": "3kE1Fv2Vd9tR",
        "colab_type": "code",
        "colab": {}
      },
      "cell_type": "code",
      "source": [
        "train_tokens, train_tags = read_data('data/train.txt')\n",
        "validation_tokens, validation_tags = read_data('data/validation.txt')\n",
        "test_tokens, test_tags = read_data('data/test.txt')"
      ],
      "execution_count": 0,
      "outputs": []
    },
    {
      "metadata": {
        "id": "C5wmsjt_d9tU",
        "colab_type": "code",
        "colab": {
          "base_uri": "https://localhost:8080/",
          "height": 35
        },
        "outputId": "614a1ceb-7daa-4f47-b1bb-754cb8612185"
      },
      "cell_type": "code",
      "source": [
        "len(test_tokens)"
      ],
      "execution_count": 5,
      "outputs": [
        {
          "output_type": "execute_result",
          "data": {
            "text/plain": [
              "724"
            ]
          },
          "metadata": {
            "tags": []
          },
          "execution_count": 5
        }
      ]
    },
    {
      "metadata": {
        "id": "LwRulD0Rd9tX",
        "colab_type": "text"
      },
      "cell_type": "markdown",
      "source": [
        "You should always understand what kind of data you deal with. For this purpose, you can print the data running the following cell:"
      ]
    },
    {
      "metadata": {
        "id": "m5KtIJfhd9tY",
        "colab_type": "code",
        "colab": {
          "base_uri": "https://localhost:8080/",
          "height": 1169
        },
        "outputId": "2869da69-ce49-44be-be43-b26d4139bb78"
      },
      "cell_type": "code",
      "source": [
        "for i in range(3):\n",
        "    for token, tag in zip(train_tokens[i], train_tags[i]):\n",
        "        print('%s\\t%s' % (token, tag))\n",
        "    print()"
      ],
      "execution_count": 6,
      "outputs": [
        {
          "output_type": "stream",
          "text": [
            "RT\tO\n",
            "<USR>\tO\n",
            ":\tO\n",
            "Online\tO\n",
            "ticket\tO\n",
            "sales\tO\n",
            "for\tO\n",
            "Ghostland\tB-musicartist\n",
            "Observatory\tI-musicartist\n",
            "extended\tO\n",
            "until\tO\n",
            "6\tO\n",
            "PM\tO\n",
            "EST\tO\n",
            "due\tO\n",
            "to\tO\n",
            "high\tO\n",
            "demand\tO\n",
            ".\tO\n",
            "Get\tO\n",
            "them\tO\n",
            "before\tO\n",
            "they\tO\n",
            "sell\tO\n",
            "out\tO\n",
            "...\tO\n",
            "\n",
            "Apple\tB-product\n",
            "MacBook\tI-product\n",
            "Pro\tI-product\n",
            "A1278\tI-product\n",
            "13.3\tI-product\n",
            "\"\tI-product\n",
            "Laptop\tI-product\n",
            "-\tI-product\n",
            "MD101LL/A\tI-product\n",
            "(\tO\n",
            "June\tO\n",
            ",\tO\n",
            "2012\tO\n",
            ")\tO\n",
            "-\tO\n",
            "Full\tO\n",
            "read\tO\n",
            "by\tO\n",
            "eBay\tB-company\n",
            "<URL>\tO\n",
            "<URL>\tO\n",
            "\n",
            "Happy\tO\n",
            "Birthday\tO\n",
            "<USR>\tO\n",
            "!\tO\n",
            "May\tO\n",
            "Allah\tB-person\n",
            "s.w.t\tO\n",
            "bless\tO\n",
            "you\tO\n",
            "with\tO\n",
            "goodness\tO\n",
            "and\tO\n",
            "happiness\tO\n",
            ".\tO\n",
            "\n"
          ],
          "name": "stdout"
        }
      ]
    },
    {
      "metadata": {
        "id": "nyTvNQg5d9ta",
        "colab_type": "text"
      },
      "cell_type": "markdown",
      "source": [
        "### Prepare dictionaries\n",
        "\n",
        "To train a neural network, we will use two mappings: \n",
        "- {token}$\\to${token id}: address the row in embeddings matrix for the current token;\n",
        "- {tag}$\\to${tag id}: one-hot ground truth probability distribution vectors for computing the loss at the output of the network.\n",
        "\n",
        "Now you need to implement the function *build_dict* which will return {token or tag}$\\to${index} and vice versa. "
      ]
    },
    {
      "metadata": {
        "id": "u9GIw51Ed9tc",
        "colab_type": "code",
        "colab": {}
      },
      "cell_type": "code",
      "source": [
        "from collections import defaultdict"
      ],
      "execution_count": 0,
      "outputs": []
    },
    {
      "metadata": {
        "id": "MEoRA0PBd9td",
        "colab_type": "code",
        "colab": {}
      },
      "cell_type": "code",
      "source": [
        "def build_dict(tokens_or_tags, special_tokens):\n",
        "    \"\"\"\n",
        "        tokens_or_tags: a list of lists of tokens or tags\n",
        "        special_tokens: some special tokens\n",
        "    \"\"\"\n",
        "    # Create a dictionary with default value 0\n",
        "    tok2idx = defaultdict(lambda: 0)\n",
        "    idx2tok = []\n",
        "    \n",
        "    # Create mappings from tokens (or tags) to indices and vice versa.\n",
        "    # At first, add special tokens (or tags) to the dictionaries.\n",
        "    # The first special token must have index 0.\n",
        "    \n",
        "    # Mapping tok2idx should contain each token or tag only once. \n",
        "    # To do so, you should:\n",
        "    # 1. extract unique tokens/tags from the tokens_or_tags variable, which is not\n",
        "    #    occure in special_tokens (because they could have non-empty intersection)\n",
        "    # 2. index them (for example, you can add them into the list idx2tok\n",
        "    # 3. for each token/tag save the index into tok2idx).\n",
        "    \n",
        "    for tweet in tokens_or_tags:\n",
        "        for token in tweet:\n",
        "            idx2tok.append(token)\n",
        "        \n",
        "        idx2tok = list(set(idx2tok))\n",
        "        idx2tok = special_tokens + idx2tok\n",
        "        \n",
        "        for x, y in enumerate(idx2tok):\n",
        "            tok2idx[y] = x\n",
        "    \n",
        "    return tok2idx, idx2tok"
      ],
      "execution_count": 0,
      "outputs": []
    },
    {
      "metadata": {
        "id": "PBfibNAkd9th",
        "colab_type": "text"
      },
      "cell_type": "markdown",
      "source": [
        "After implementing the function *build_dict* you can make dictionaries for tokens and tags. Special tokens in our case will be:\n",
        " - `<UNK>` token for out of vocabulary tokens;\n",
        " - `<PAD>` token for padding sentence to the same length when we create batches of sentences."
      ]
    },
    {
      "metadata": {
        "id": "yjj7VvYzd9ti",
        "colab_type": "code",
        "colab": {}
      },
      "cell_type": "code",
      "source": [
        "special_tokens = ['<UNK>', '<PAD>']\n",
        "special_tags = ['O']\n",
        "\n",
        "# Create dictionaries \n",
        "token2idx, idx2token = build_dict(train_tokens + validation_tokens, special_tokens)\n",
        "tag2idx, idx2tag = build_dict(train_tags, special_tags)"
      ],
      "execution_count": 0,
      "outputs": []
    },
    {
      "metadata": {
        "id": "VopWKpsIehjC",
        "colab_type": "code",
        "colab": {
          "base_uri": "https://localhost:8080/",
          "height": 35
        },
        "outputId": "895ea61c-0faa-486a-90ef-72368a6da34c"
      },
      "cell_type": "code",
      "source": [
        "len(token2idx), len(tag2idx)"
      ],
      "execution_count": 33,
      "outputs": [
        {
          "output_type": "execute_result",
          "data": {
            "text/plain": [
              "(20505, 21)"
            ]
          },
          "metadata": {
            "tags": []
          },
          "execution_count": 33
        }
      ]
    },
    {
      "metadata": {
        "id": "WVptonPmd9tk",
        "colab_type": "text"
      },
      "cell_type": "markdown",
      "source": [
        "The next additional functions will help you to create the mapping between tokens and ids for a sentence. "
      ]
    },
    {
      "metadata": {
        "id": "1ApRDyVgd9tl",
        "colab_type": "code",
        "colab": {}
      },
      "cell_type": "code",
      "source": [
        "def words2idxs(tokens_list):\n",
        "    return [token2idx[word] for word in tokens_list]\n",
        "\n",
        "def tags2idxs(tags_list):\n",
        "    return [tag2idx[tag] for tag in tags_list]\n",
        "\n",
        "def idxs2words(idxs):\n",
        "    return [idx2token[idx] for idx in idxs]\n",
        "\n",
        "def idxs2tags(idxs):\n",
        "    return [idx2tag[idx] for idx in idxs]"
      ],
      "execution_count": 0,
      "outputs": []
    },
    {
      "metadata": {
        "id": "ckeMXTvld9tn",
        "colab_type": "text"
      },
      "cell_type": "markdown",
      "source": [
        "### Generate batches\n",
        "\n",
        "Neural Networks are usually trained with batches. It means that weight updates of the network are based on several sequences at every single time. The tricky part is that all sequences within a batch need to have the same length. So we will pad them with a special `<PAD>` token. It is also a good practice to provide RNN with sequence lengths, so it can skip computations for padding parts. We provide the batching function *batches_generator* readily available for you to save time. "
      ]
    },
    {
      "metadata": {
        "id": "Y1nuij8Id9to",
        "colab_type": "code",
        "colab": {}
      },
      "cell_type": "code",
      "source": [
        "def batches_generator(batch_size, tokens, tags,\n",
        "                      shuffle=True, allow_smaller_last_batch=True):\n",
        "    \"\"\"Generates padded batches of tokens and tags.\"\"\"\n",
        "    \n",
        "    n_samples = len(tokens)\n",
        "    if shuffle:\n",
        "        order = np.random.permutation(n_samples)\n",
        "    else:\n",
        "        order = np.arange(n_samples)\n",
        "\n",
        "    n_batches = n_samples // batch_size\n",
        "    if allow_smaller_last_batch and n_samples % batch_size:\n",
        "        n_batches += 1\n",
        "\n",
        "    for k in range(n_batches):\n",
        "        batch_start = k * batch_size\n",
        "        batch_end = min((k + 1) * batch_size, n_samples)\n",
        "        current_batch_size = batch_end - batch_start\n",
        "        x_list = []\n",
        "        y_list = []\n",
        "        max_len_token = 0\n",
        "        for idx in order[batch_start: batch_end]:\n",
        "            x_list.append(words2idxs(tokens[idx]))\n",
        "            y_list.append(tags2idxs(tags[idx]))\n",
        "            max_len_token = max(max_len_token, len(tags[idx]))\n",
        "            \n",
        "        # Fill in the data into numpy nd-arrays filled with padding indices.\n",
        "        x = np.ones([current_batch_size, max_len_token], dtype=np.int32) * token2idx['<PAD>']\n",
        "        y = np.ones([current_batch_size, max_len_token], dtype=np.int32) * tag2idx['O']\n",
        "        lengths = np.zeros(current_batch_size, dtype=np.int32)\n",
        "        for n in range(current_batch_size):\n",
        "            utt_len = len(x_list[n])\n",
        "            x[n, :utt_len] = x_list[n]\n",
        "            lengths[n] = utt_len\n",
        "            y[n, :utt_len] = y_list[n]\n",
        "        yield x, y, lengths"
      ],
      "execution_count": 0,
      "outputs": []
    },
    {
      "metadata": {
        "id": "9RFJDwbQd9tq",
        "colab_type": "text"
      },
      "cell_type": "markdown",
      "source": [
        "## Build a recurrent neural network\n",
        "\n",
        "This is the most important part of the assignment. Here we will specify the network architecture based on TensorFlow building blocks. It's fun and easy as a lego constructor! We will create an LSTM network which will produce probability distribution over tags for each token in a sentence. To take into account both right and left contexts of the token, we will use Bi-Directional LSTM (Bi-LSTM). Dense layer will be used on top to perform tag classification.  "
      ]
    },
    {
      "metadata": {
        "id": "_hfPctQud9tq",
        "colab_type": "code",
        "colab": {}
      },
      "cell_type": "code",
      "source": [
        "import tensorflow as tf\n",
        "import numpy as np"
      ],
      "execution_count": 0,
      "outputs": []
    },
    {
      "metadata": {
        "id": "nhvCqZGDd9tt",
        "colab_type": "code",
        "colab": {}
      },
      "cell_type": "code",
      "source": [
        "class BiLSTMModel():\n",
        "    pass"
      ],
      "execution_count": 0,
      "outputs": []
    },
    {
      "metadata": {
        "collapsed": true,
        "id": "6qfqF1aSd9tw",
        "colab_type": "text"
      },
      "cell_type": "markdown",
      "source": [
        "First, we need to create [placeholders](https://www.tensorflow.org/versions/master/api_docs/python/tf/placeholder) to specify what data we are going to feed into the network during the execution time.  For this task we will need the following placeholders:\n",
        " - *input_batch* — sequences of words (the shape equals to [batch_size, sequence_len]);\n",
        " - *ground_truth_tags* — sequences of tags (the shape equals to [batch_size, sequence_len]);\n",
        " - *lengths* — lengths of not padded sequences (the shape equals to [batch_size]);\n",
        " - *dropout_ph* — dropout keep probability; this placeholder has a predefined value 1;\n",
        " - *learning_rate_ph* — learning rate; we need this placeholder because we want to change the value during training.\n",
        "\n",
        "It could be noticed that we use *None* in the shapes in the declaration, which means that data of any size can be feeded. \n",
        "\n",
        "You need to complete the function *declare_placeholders*."
      ]
    },
    {
      "metadata": {
        "id": "gjafIgV5d9tx",
        "colab_type": "code",
        "colab": {}
      },
      "cell_type": "code",
      "source": [
        "def declare_placeholders(self):\n",
        "    \"\"\"Specifies placeholders for the model.\"\"\"\n",
        "\n",
        "    # Placeholders for input and ground truth output.\n",
        "    self.input_batch = tf.placeholder(dtype=tf.int32, shape=[None, None], name='input_batch') \n",
        "    self.ground_truth_tags = tf.placeholder(dtype=tf.int32, shape=[None, None], name='ground_truth_tags')\n",
        "  \n",
        "    # Placeholder for lengths of the sequences.\n",
        "    self.lengths = tf.placeholder(dtype=tf.int32, shape=[None], name='lengths') \n",
        "    \n",
        "    # Placeholder for a dropout keep probability. If we don't feed\n",
        "    # a value for this placeholder, it will be equal to 1.0.\n",
        "    self.dropout_ph = tf.placeholder_with_default(tf.cast(1.0, tf.float32), shape=[])\n",
        "    \n",
        "    # Placeholder for a learning rate (tf.float32).\n",
        "    self.learning_rate_ph = tf.placeholder(dtype=tf.float32, shape=[])"
      ],
      "execution_count": 0,
      "outputs": []
    },
    {
      "metadata": {
        "id": "dklhc9YYd9t1",
        "colab_type": "code",
        "colab": {}
      },
      "cell_type": "code",
      "source": [
        "BiLSTMModel.__declare_placeholders = classmethod(declare_placeholders)"
      ],
      "execution_count": 0,
      "outputs": []
    },
    {
      "metadata": {
        "collapsed": true,
        "id": "BeSUByxRd9t5",
        "colab_type": "text"
      },
      "cell_type": "markdown",
      "source": [
        "Now, let us specify the layers of the neural network. First, we need to perform some preparatory steps: \n",
        " \n",
        "- Create embeddings matrix with [tf.Variable](https://www.tensorflow.org/api_docs/python/tf/Variable). Specify its name (*embeddings_matrix*), type  (*tf.float32*), and initialize with random values.\n",
        "- Create forward and backward LSTM cells. TensorFlow provides a number of [RNN cells](https://www.tensorflow.org/api_guides/python/contrib.rnn#Core_RNN_Cells_for_use_with_TensorFlow_s_core_RNN_methods) ready for you. We suggest that you use *BasicLSTMCell*, but you can also experiment with other types, e.g. GRU cells. [This](http://colah.github.io/posts/2015-08-Understanding-LSTMs/) blogpost could be interesting if you want to learn more about the differences.\n",
        "- Wrap your cells with [DropoutWrapper](https://www.tensorflow.org/api_docs/python/tf/contrib/rnn/DropoutWrapper). Dropout is an important regularization technique for neural networks. Specify all keep probabilities using the dropout placeholder that we created before.\n",
        " \n",
        "After that, you can build the computation graph that transforms an input_batch:\n",
        "\n",
        "- [Look up](https://www.tensorflow.org/api_docs/python/tf/nn/embedding_lookup) embeddings for an *input_batch* in the prepared *embedding_matrix*.\n",
        "- Pass the embeddings through [Bidirectional Dynamic RNN](https://www.tensorflow.org/api_docs/python/tf/nn/bidirectional_dynamic_rnn) with the specified forward and backward cells. Use the lengths placeholder here to avoid computations for padding tokens inside the RNN.\n",
        "- Create a dense layer on top. Its output will be used directly in loss function.  \n",
        " \n",
        "Fill in the code below. In case you need to debug something, the easiest way is to check that tensor shapes of each step match the expected ones. \n",
        " "
      ]
    },
    {
      "metadata": {
        "id": "AnZglS_bd9t7",
        "colab_type": "code",
        "colab": {}
      },
      "cell_type": "code",
      "source": [
        "def build_layers(self, vocabulary_size, embedding_dim, n_hidden_rnn, n_tags):\n",
        "    \"\"\"Specifies bi-LSTM architecture and computes logits for inputs.\"\"\"\n",
        "    # Create embedding variable (tf.Variable) with dtype tf.float32\n",
        "    initial_embedding_matrix = np.random.randn(vocabulary_size, embedding_dim) / np.sqrt(embedding_dim)\n",
        "    embedding_matrix_variable = tf.Variable(initial_embedding_matrix, dtype=tf.float32)\n",
        "    # Create RNN cells (for example, tf.nn.rnn_cell.BasicLSTMCell) with n_hidden_rnn number of units \n",
        "    # and dropout (tf.nn.rnn_cell.DropoutWrapper), initializing all *_keep_prob with dropout placeholder.\n",
        "    forward_cell =  tf.nn.rnn_cell.DropoutWrapper(tf.nn.rnn_cell.BasicLSTMCell(num_units=n_hidden_rnn, forget_bias=1.0), input_keep_prob=self.dropout_ph,output_keep_prob=self.dropout_ph,state_keep_prob=self.dropout_ph)\n",
        "    backward_cell = tf.nn.rnn_cell.DropoutWrapper(tf.nn.rnn_cell.BasicLSTMCell(num_units=n_hidden_rnn, forget_bias=1.0),input_keep_prob=self.dropout_ph,output_keep_prob=self.dropout_ph,state_keep_prob=self.dropout_ph)\n",
        "    # Look up embeddings for self.input_batch (tf.nn.embedding_lookup).\n",
        "    # Shape: [batch_size, sequence_len, embedding_dim].\n",
        "    embeddings = tf.nn.embedding_lookup(embedding_matrix_variable, self.input_batch)\n",
        "    # Pass them through Bidirectional Dynamic RNN (tf.nn.bidirectional_dynamic_rnn).\n",
        "    # Shape: [batch_size, sequence_len, 2 * n_hidden_rnn]. \n",
        "    # Also don't forget to initialize sequence_length as self.lengths and dtype as tf.float32.\n",
        "    (rnn_output_fw, rnn_output_bw), _ =  tf.nn.bidirectional_dynamic_rnn(cell_fw=forward_cell,cell_bw=backward_cell,inputs=embeddings,dtype=tf.float32,sequence_length=self.lengths)\n",
        "    rnn_output = tf.concat([rnn_output_fw, rnn_output_bw], axis=2)\n",
        "    # Dense layer on top.\n",
        "    # Shape: [batch_size, sequence_len, n_tags].   \n",
        "    self.logits = tf.layers.dense(rnn_output, n_tags, activation=None)"
      ],
      "execution_count": 0,
      "outputs": []
    },
    {
      "metadata": {
        "id": "UJMg7UZad9t9",
        "colab_type": "code",
        "colab": {}
      },
      "cell_type": "code",
      "source": [
        "BiLSTMModel.__build_layers = classmethod(build_layers)"
      ],
      "execution_count": 0,
      "outputs": []
    },
    {
      "metadata": {
        "id": "_kzwUpO2d9t_",
        "colab_type": "text"
      },
      "cell_type": "markdown",
      "source": [
        "To compute the actual predictions of the neural network, you need to apply [softmax](https://www.tensorflow.org/api_docs/python/tf/nn/softmax) to the last layer and find the most probable tags with [argmax](https://www.tensorflow.org/api_docs/python/tf/argmax)."
      ]
    },
    {
      "metadata": {
        "id": "mJ4pJUZCd9uA",
        "colab_type": "code",
        "colab": {}
      },
      "cell_type": "code",
      "source": [
        "def compute_predictions(self):\n",
        "    \"\"\"Transforms logits to probabilities and finds the most probable tags.\"\"\"\n",
        "    \n",
        "    # Create softmax (tf.nn.softmax) function\n",
        "    softmax_output = tf.nn.softmax(logits=self.logits)\n",
        "    \n",
        "    # Use argmax (tf.argmax) to get the most probable tags\n",
        "    # Don't forget to set axis=-1\n",
        "    # otherwise argmax will be calculated in a wrong way\n",
        "    self.predictions = tf.argmax(softmax_output, axis=-1)"
      ],
      "execution_count": 0,
      "outputs": []
    },
    {
      "metadata": {
        "id": "470om1mDd9uC",
        "colab_type": "code",
        "colab": {}
      },
      "cell_type": "code",
      "source": [
        "BiLSTMModel.__compute_predictions = classmethod(compute_predictions)"
      ],
      "execution_count": 0,
      "outputs": []
    },
    {
      "metadata": {
        "collapsed": true,
        "id": "PI7UjIV8d9uE",
        "colab_type": "text"
      },
      "cell_type": "markdown",
      "source": [
        "During training we do not need predictions of the network, but we need a loss function. We will use [cross-entropy loss](http://ml-cheatsheet.readthedocs.io/en/latest/loss_functions.html#cross-entropy), efficiently implemented in TF as \n",
        "[cross entropy with logits](https://www.tensorflow.org/api_docs/python/tf/nn/softmax_cross_entropy_with_logits). Note that it should be applied to logits of the model (not to softmax probabilities!). Also note,  that we do not want to take into account loss terms coming from `<PAD>` tokens. So we need to mask them out, before computing [mean](https://www.tensorflow.org/api_docs/python/tf/reduce_mean)."
      ]
    },
    {
      "metadata": {
        "id": "fjPUxyCrd9uE",
        "colab_type": "code",
        "colab": {}
      },
      "cell_type": "code",
      "source": [
        "def compute_loss(self, n_tags, PAD_index):\n",
        "    \"\"\"Computes masked cross-entopy loss with logits.\"\"\"\n",
        "    \n",
        "    # Create cross entropy function function (tf.nn.softmax_cross_entropy_with_logits)\n",
        "    ground_truth_tags_one_hot = tf.one_hot(self.ground_truth_tags, n_tags)\n",
        "    loss_tensor = tf.nn.softmax_cross_entropy_with_logits_v2(labels=ground_truth_tags_one_hot,\n",
        "                                                             logits=self.logits)\n",
        "    \n",
        "    mask = tf.cast(tf.not_equal(loss_tensor, PAD_index), tf.float32)\n",
        "    # Create loss function which doesn't operate with <PAD> tokens (tf.reduce_mean)\n",
        "    # Be careful that the argument of tf.reduce_mean should be\n",
        "    # multiplication of mask and loss_tensor.\n",
        "    loss = tf.boolean_mask(loss_tensor, mask) \n",
        "    self.loss = tf.reduce_mean(tf.cast(loss, tf.float32), keepdims=False)"
      ],
      "execution_count": 0,
      "outputs": []
    },
    {
      "metadata": {
        "id": "dJiIE9Xsd9uH",
        "colab_type": "code",
        "colab": {}
      },
      "cell_type": "code",
      "source": [
        "BiLSTMModel.__compute_loss = classmethod(compute_loss)"
      ],
      "execution_count": 0,
      "outputs": []
    },
    {
      "metadata": {
        "id": "kRmBmMwhd9uI",
        "colab_type": "text"
      },
      "cell_type": "markdown",
      "source": [
        "The last thing to specify is how we want to optimize the loss. \n",
        "We suggest that you use [Adam](https://www.tensorflow.org/api_docs/python/tf/train/AdamOptimizer) optimizer with a learning rate from the corresponding placeholder. \n",
        "You will also need to apply [clipping](https://www.tensorflow.org/versions/r0.12/api_docs/python/train/gradient_clipping) to eliminate exploding gradients. It can be easily done with [clip_by_norm](https://www.tensorflow.org/api_docs/python/tf/clip_by_norm) function. "
      ]
    },
    {
      "metadata": {
        "id": "YFzNpYs5d9uJ",
        "colab_type": "code",
        "colab": {}
      },
      "cell_type": "code",
      "source": [
        "def perform_optimization(self):\n",
        "    \"\"\"Specifies the optimizer and train_op for the model.\"\"\"\n",
        "    \n",
        "    # Create an optimizer (tf.train.AdamOptimizer)\n",
        "    self.optimizer = tf.train.AdamOptimizer(learning_rate=self.learning_rate_ph)\n",
        "    self.grads_and_vars = self.optimizer.compute_gradients(self.loss)\n",
        "    \n",
        "    # Gradient clipping (tf.clip_by_norm) for self.grads_and_vars\n",
        "    # Pay attention that you need to apply this operation only for gradients \n",
        "    # because self.grads_and_vars contains also variables.\n",
        "    # list comprehension might be useful in this case.\n",
        "    clip_norm = tf.cast(1.0, tf.float32)\n",
        "    grads_and_vars = []\n",
        "    for gradient, variable in self.grads_and_vars:\n",
        "        grads_and_vars.append((tf.clip_by_norm(gradient, clip_norm), variable))\n",
        "    \n",
        "    self.grads_and_vars = grads_and_vars\n",
        "    self.train_op = self.optimizer.apply_gradients(self.grads_and_vars)"
      ],
      "execution_count": 0,
      "outputs": []
    },
    {
      "metadata": {
        "id": "waNDHWwKd9uM",
        "colab_type": "code",
        "colab": {}
      },
      "cell_type": "code",
      "source": [
        "BiLSTMModel.__perform_optimization = classmethod(perform_optimization)"
      ],
      "execution_count": 0,
      "outputs": []
    },
    {
      "metadata": {
        "collapsed": true,
        "id": "LbOcjAGod9uN",
        "colab_type": "text"
      },
      "cell_type": "markdown",
      "source": [
        "Congratulations! You have specified all the parts of your network. You may have noticed, that we didn't deal with any real data yet, so what you have written is just recipes on how the network should function.\n",
        "Now we will put them to the constructor of our Bi-LSTM class to use it in the next section. "
      ]
    },
    {
      "metadata": {
        "id": "nd0w-RZFd9uP",
        "colab_type": "code",
        "colab": {}
      },
      "cell_type": "code",
      "source": [
        "def init_model(self, vocabulary_size, n_tags, embedding_dim, n_hidden_rnn, PAD_index):\n",
        "    self.__declare_placeholders()\n",
        "    self.__build_layers(vocabulary_size, embedding_dim, n_hidden_rnn, n_tags)\n",
        "    self.__compute_predictions()\n",
        "    self.__compute_loss(n_tags, PAD_index)\n",
        "    self.__perform_optimization()"
      ],
      "execution_count": 0,
      "outputs": []
    },
    {
      "metadata": {
        "id": "2lvTSHLXd9uS",
        "colab_type": "code",
        "colab": {}
      },
      "cell_type": "code",
      "source": [
        "BiLSTMModel.__init__ = classmethod(init_model)"
      ],
      "execution_count": 0,
      "outputs": []
    },
    {
      "metadata": {
        "id": "FnLMQLfud9uV",
        "colab_type": "text"
      },
      "cell_type": "markdown",
      "source": [
        "## Train the network and predict tags"
      ]
    },
    {
      "metadata": {
        "collapsed": true,
        "id": "-SWdK8w4d9uV",
        "colab_type": "text"
      },
      "cell_type": "markdown",
      "source": [
        "[Session.run](https://www.tensorflow.org/api_docs/python/tf/Session#run) is a point which initiates computations in the graph that we have defined. To train the network, we need to compute *self.train_op*, which was declared in *perform_optimization*. To predict tags, we just need to compute *self.predictions*. Anyway, we need to feed actual data through the placeholders that we defined before. "
      ]
    },
    {
      "metadata": {
        "id": "nu86PV3jd9uX",
        "colab_type": "code",
        "colab": {}
      },
      "cell_type": "code",
      "source": [
        "def train_on_batch(self, session, x_batch, y_batch, lengths, learning_rate, dropout_keep_probability):\n",
        "    feed_dict = {self.input_batch: x_batch,\n",
        "                 self.ground_truth_tags: y_batch,\n",
        "                 self.learning_rate_ph: learning_rate,\n",
        "                 self.dropout_ph: dropout_keep_probability,\n",
        "                 self.lengths: lengths}\n",
        "    \n",
        "    session.run(self.train_op, feed_dict=feed_dict)"
      ],
      "execution_count": 0,
      "outputs": []
    },
    {
      "metadata": {
        "id": "SbcKp-nNd9uZ",
        "colab_type": "code",
        "colab": {}
      },
      "cell_type": "code",
      "source": [
        "\n",
        "BiLSTMModel.train_on_batch = classmethod(train_on_batch)"
      ],
      "execution_count": 0,
      "outputs": []
    },
    {
      "metadata": {
        "id": "YdEb7BFMd9ub",
        "colab_type": "text"
      },
      "cell_type": "markdown",
      "source": [
        "Implement the function *predict_for_batch* by initializing *feed_dict* with input *x_batch* and *lengths* and running the *session* for *self.predictions*."
      ]
    },
    {
      "metadata": {
        "id": "bkCDp49pd9uc",
        "colab_type": "code",
        "colab": {}
      },
      "cell_type": "code",
      "source": [
        "def predict_for_batch(self, session, x_batch, lengths):\n",
        "    \n",
        "    predictions = session.run(self.predictions,\n",
        "                              feed_dict={self.input_batch: x_batch, self.lengths: lengths})\n",
        "    \n",
        "    return predictions"
      ],
      "execution_count": 0,
      "outputs": []
    },
    {
      "metadata": {
        "id": "6HPKJJLmd9ud",
        "colab_type": "code",
        "colab": {}
      },
      "cell_type": "code",
      "source": [
        "BiLSTMModel.predict_for_batch = classmethod(predict_for_batch)"
      ],
      "execution_count": 0,
      "outputs": []
    },
    {
      "metadata": {
        "id": "GcE_s41qd9uf",
        "colab_type": "text"
      },
      "cell_type": "markdown",
      "source": [
        "We finished with necessary methods of our BiLSTMModel model and almost ready to start experimenting.\n",
        "\n",
        "### Evaluation \n",
        "To simplify the evaluation process we provide two functions for you:\n",
        " - *predict_tags*: uses a model to get predictions and transforms indices to tokens and tags;\n",
        " - *eval_conll*: calculates precision, recall and F1 for the results."
      ]
    },
    {
      "metadata": {
        "id": "y1NMBsscd9ug",
        "colab_type": "code",
        "colab": {}
      },
      "cell_type": "code",
      "source": [
        "\n",
        "from evaluation import precision_recall_f1"
      ],
      "execution_count": 0,
      "outputs": []
    },
    {
      "metadata": {
        "id": "FEb3cLCMd9uh",
        "colab_type": "code",
        "colab": {}
      },
      "cell_type": "code",
      "source": [
        "def predict_tags(model, session, token_idxs_batch, lengths):\n",
        "    \"\"\"Performs predictions and transforms indices to tokens and tags.\"\"\"\n",
        "    \n",
        "    tag_idxs_batch = model.predict_for_batch(session, token_idxs_batch, lengths)\n",
        "    \n",
        "    tags_batch, tokens_batch = [], []\n",
        "    for tag_idxs, token_idxs in zip(tag_idxs_batch, token_idxs_batch):\n",
        "        tags, tokens = [], []\n",
        "        for tag_idx, token_idx in zip(tag_idxs, token_idxs):\n",
        "            tags.append(idx2tag[tag_idx])\n",
        "            tokens.append(idx2token[token_idx])\n",
        "        tags_batch.append(tags)\n",
        "        tokens_batch.append(tokens)\n",
        "    return tags_batch, tokens_batch\n",
        "    \n",
        "    \n",
        "def eval_conll(model, session, tokens, tags, short_report=True):\n",
        "    \"\"\"Computes NER quality measures using CONLL shared task script.\"\"\"\n",
        "    \n",
        "    y_true, y_pred = [], []\n",
        "    for x_batch, y_batch, lengths in batches_generator(1, tokens, tags):\n",
        "        tags_batch, tokens_batch = predict_tags(model, session, x_batch, lengths)\n",
        "        if len(x_batch[0]) != len(tags_batch[0]):\n",
        "            raise Exception(\"Incorrect length of prediction for the input, \"\n",
        "                            \"expected length: %i, got: %i\" % (len(x_batch[0]), len(tags_batch[0])))\n",
        "        predicted_tags = []\n",
        "        ground_truth_tags = []\n",
        "        for gt_tag_idx, pred_tag, token in zip(y_batch[0], tags_batch[0], tokens_batch[0]): \n",
        "            if token != '<PAD>':\n",
        "                ground_truth_tags.append(idx2tag[gt_tag_idx])\n",
        "                predicted_tags.append(pred_tag)\n",
        "\n",
        "        # We extend every prediction and ground truth sequence with 'O' tag\n",
        "        # to indicate a possible end of entity.\n",
        "        y_true.extend(ground_truth_tags + ['O'])\n",
        "        y_pred.extend(predicted_tags + ['O'])\n",
        "        \n",
        "    results = precision_recall_f1(y_true, y_pred, print_results=True, short_report=short_report)\n",
        "    return results"
      ],
      "execution_count": 0,
      "outputs": []
    },
    {
      "metadata": {
        "id": "P5VR0iw5d9uj",
        "colab_type": "text"
      },
      "cell_type": "markdown",
      "source": [
        "## Run your experiment"
      ]
    },
    {
      "metadata": {
        "id": "qM1-c0pQd9uk",
        "colab_type": "text"
      },
      "cell_type": "markdown",
      "source": [
        "Create *BiLSTMModel* model with the following parameters:\n",
        " - *vocabulary_size* — number of tokens;\n",
        " - *n_tags* — number of tags;\n",
        " - *embedding_dim* — dimension of embeddings, recommended value: 200;\n",
        " - *n_hidden_rnn* — size of hidden layers for RNN, recommended value: 200;\n",
        " - *PAD_index* — an index of the padding token (`<PAD>`).\n",
        "\n",
        "Set hyperparameters. You might want to start with the following recommended values:\n",
        "- *batch_size*: 32;\n",
        "- 4 epochs;\n",
        "- starting value of *learning_rate*: 0.005\n",
        "- *learning_rate_decay*: a square root of 2;\n",
        "- *dropout_keep_probability*: try several values: 0.1, 0.5, 0.9.\n",
        "\n",
        "However, feel free to conduct more experiments to tune hyperparameters and earn extra points for the assignment."
      ]
    },
    {
      "metadata": {
        "id": "rxN19HPod9uk",
        "colab_type": "code",
        "colab": {
          "base_uri": "https://localhost:8080/",
          "height": 35
        },
        "outputId": "be1c65f2-9106-4dcd-f385-152d4990586b"
      },
      "cell_type": "code",
      "source": [
        "len(token2idx), len(tag2idx)"
      ],
      "execution_count": 32,
      "outputs": [
        {
          "output_type": "execute_result",
          "data": {
            "text/plain": [
              "(20505, 21)"
            ]
          },
          "metadata": {
            "tags": []
          },
          "execution_count": 32
        }
      ]
    },
    {
      "metadata": {
        "id": "ORkUSvajd9un",
        "colab_type": "code",
        "colab": {
          "base_uri": "https://localhost:8080/",
          "height": 127
        },
        "outputId": "bfad24f2-ca35-44e9-bd77-9bf59514cb82"
      },
      "cell_type": "code",
      "source": [
        "tf.reset_default_graph()\n",
        "\n",
        "model = BiLSTMModel(vocabulary_size=len(token2idx)+2,\n",
        "                    # Required for the special tokens ['<UNK>', '<PAD>']\n",
        "                    n_tags=len(tag2idx),\n",
        "                    embedding_dim=400,  \n",
        "                    n_hidden_rnn=400,  \n",
        "                    PAD_index=token2idx['<PAD>'])\n",
        "\n",
        "batch_size = 32\n",
        "n_epochs = 6    \n",
        "learning_rate = 0.005\n",
        "learning_rate_decay = np.sqrt(2)\n",
        "dropout_keep_probability = 0.55  "
      ],
      "execution_count": 34,
      "outputs": [
        {
          "output_type": "stream",
          "text": [
            "WARNING:tensorflow:From <ipython-input-16-c9e6c8859114>:10: BasicLSTMCell.__init__ (from tensorflow.python.ops.rnn_cell_impl) is deprecated and will be removed in a future version.\n",
            "Instructions for updating:\n",
            "This class is deprecated, please use tf.nn.rnn_cell.LSTMCell, which supports all the feature this cell currently has. Please replace the existing code with tf.nn.rnn_cell.LSTMCell(name='basic_lstm_cell').\n"
          ],
          "name": "stdout"
        },
        {
          "output_type": "stream",
          "text": [
            "/usr/local/lib/python3.6/dist-packages/tensorflow/python/ops/gradients_impl.py:112: UserWarning: Converting sparse IndexedSlices to a dense Tensor of unknown shape. This may consume a large amount of memory.\n",
            "  \"Converting sparse IndexedSlices to a dense Tensor of unknown shape. \"\n"
          ],
          "name": "stderr"
        }
      ]
    },
    {
      "metadata": {
        "id": "75BpCFzVd9us",
        "colab_type": "text"
      },
      "cell_type": "markdown",
      "source": [
        "If you got an error *\"Tensor conversion requested dtype float64 for Tensor with dtype float32\"* in this point, check if there are variables without dtype initialised. Set the value of dtype equals to *tf.float32* for such variables."
      ]
    },
    {
      "metadata": {
        "id": "qypiFqhSd9us",
        "colab_type": "text"
      },
      "cell_type": "markdown",
      "source": [
        "Finally, we are ready to run the training!"
      ]
    },
    {
      "metadata": {
        "scrolled": false,
        "id": "1RulD4GLd9ut",
        "colab_type": "code",
        "colab": {
          "base_uri": "https://localhost:8080/",
          "height": 1259
        },
        "outputId": "67eced07-c53c-41da-91f6-9371e5cd72e2"
      },
      "cell_type": "code",
      "source": [
        "sess = tf.Session()\n",
        "sess.run(tf.global_variables_initializer())\n",
        "\n",
        "print('Start training... \\n')\n",
        "for epoch in range(n_epochs):\n",
        "    # For each epoch evaluate the model on train and validation data\n",
        "    print('-' * 20 + ' Epoch {} '.format(epoch+1) + 'of {} '.format(n_epochs) + '-' * 20)\n",
        "    print('Train data evaluation:')\n",
        "    eval_conll(model, sess, train_tokens, train_tags, short_report=True)\n",
        "    print('Validation data evaluation:')\n",
        "    eval_conll(model, sess, validation_tokens, validation_tags, short_report=True)\n",
        "    \n",
        "    # Train the model\n",
        "    for x_batch, y_batch, lengths in batches_generator(batch_size, train_tokens, train_tags):\n",
        "        model.train_on_batch(sess, x_batch, y_batch, lengths, learning_rate, dropout_keep_probability)\n",
        "        \n",
        "    # Decaying the learning rate\n",
        "    learning_rate = learning_rate / learning_rate_decay\n",
        "    \n",
        "print('...training finished.')"
      ],
      "execution_count": 35,
      "outputs": [
        {
          "output_type": "stream",
          "text": [
            "Start training... \n",
            "\n",
            "-------------------- Epoch 1 of 6 --------------------\n",
            "Train data evaluation:\n",
            "processed 105778 tokens with 4489 phrases; found: 72696 phrases; correct: 155.\n",
            "\n",
            "precision:  0.21%; recall:  3.45%; F1:  0.40\n",
            "\n",
            "Validation data evaluation:\n",
            "processed 12836 tokens with 537 phrases; found: 8918 phrases; correct: 26.\n",
            "\n",
            "precision:  0.29%; recall:  4.84%; F1:  0.55\n",
            "\n",
            "-------------------- Epoch 2 of 6 --------------------\n",
            "Train data evaluation:\n",
            "processed 105778 tokens with 4489 phrases; found: 3438 phrases; correct: 1086.\n",
            "\n",
            "precision:  31.59%; recall:  24.19%; F1:  27.40\n",
            "\n",
            "Validation data evaluation:\n",
            "processed 12836 tokens with 537 phrases; found: 253 phrases; correct: 92.\n",
            "\n",
            "precision:  36.36%; recall:  17.13%; F1:  23.29\n",
            "\n",
            "-------------------- Epoch 3 of 6 --------------------\n",
            "Train data evaluation:\n",
            "processed 105778 tokens with 4489 phrases; found: 3118 phrases; correct: 1310.\n",
            "\n",
            "precision:  42.01%; recall:  29.18%; F1:  34.44\n",
            "\n",
            "Validation data evaluation:\n",
            "processed 12836 tokens with 537 phrases; found: 247 phrases; correct: 102.\n",
            "\n",
            "precision:  41.30%; recall:  18.99%; F1:  26.02\n",
            "\n",
            "-------------------- Epoch 4 of 6 --------------------\n",
            "Train data evaluation:\n",
            "processed 105778 tokens with 4489 phrases; found: 3958 phrases; correct: 2431.\n",
            "\n",
            "precision:  61.42%; recall:  54.15%; F1:  57.56\n",
            "\n",
            "Validation data evaluation:\n",
            "processed 12836 tokens with 537 phrases; found: 275 phrases; correct: 134.\n",
            "\n",
            "precision:  48.73%; recall:  24.95%; F1:  33.00\n",
            "\n",
            "-------------------- Epoch 5 of 6 --------------------\n",
            "Train data evaluation:\n",
            "processed 105778 tokens with 4489 phrases; found: 4760 phrases; correct: 3231.\n",
            "\n",
            "precision:  67.88%; recall:  71.98%; F1:  69.87\n",
            "\n",
            "Validation data evaluation:\n",
            "processed 12836 tokens with 537 phrases; found: 463 phrases; correct: 162.\n",
            "\n",
            "precision:  34.99%; recall:  30.17%; F1:  32.40\n",
            "\n",
            "-------------------- Epoch 6 of 6 --------------------\n",
            "Train data evaluation:\n",
            "processed 105778 tokens with 4489 phrases; found: 4357 phrases; correct: 3273.\n",
            "\n",
            "precision:  75.12%; recall:  72.91%; F1:  74.00\n",
            "\n",
            "Validation data evaluation:\n",
            "processed 12836 tokens with 537 phrases; found: 413 phrases; correct: 163.\n",
            "\n",
            "precision:  39.47%; recall:  30.35%; F1:  34.32\n",
            "\n",
            "...training finished.\n"
          ],
          "name": "stdout"
        }
      ]
    },
    {
      "metadata": {
        "id": "q1aLbZW0d9ux",
        "colab_type": "text"
      },
      "cell_type": "markdown",
      "source": [
        "Now let us see full quality reports for the final model on train, validation, and test sets. To give you a hint whether you have implemented everything correctly, you might expect F-score about 40% on the validation set.\n",
        "\n",
        "**The output of the cell below (as well as the output of all the other cells) should be present in the notebook for peer2peer review!**"
      ]
    },
    {
      "metadata": {
        "id": "AyRnAOMGd9uy",
        "colab_type": "code",
        "colab": {
          "base_uri": "https://localhost:8080/",
          "height": 35
        },
        "outputId": "de43fed1-5f50-4e31-dd57-c9a9f7ae27b4"
      },
      "cell_type": "code",
      "source": [
        "len(train_tokens), len(validation_tokens), len(test_tokens)"
      ],
      "execution_count": 36,
      "outputs": [
        {
          "output_type": "execute_result",
          "data": {
            "text/plain": [
              "(5795, 724, 724)"
            ]
          },
          "metadata": {
            "tags": []
          },
          "execution_count": 36
        }
      ]
    },
    {
      "metadata": {
        "id": "HInTPPr2d9u0",
        "colab_type": "code",
        "colab": {
          "base_uri": "https://localhost:8080/",
          "height": 467
        },
        "outputId": "9cd1ddbf-cf08-42cd-97f3-a88f5d274436"
      },
      "cell_type": "code",
      "source": [
        "print('-' * 20 + ' Train set quality: ' + '-' * 20)\n",
        "train_results = eval_conll(model, sess, train_tokens, train_tags, short_report=False)"
      ],
      "execution_count": 37,
      "outputs": [
        {
          "output_type": "stream",
          "text": [
            "-------------------- Train set quality: --------------------\n",
            "processed 105778 tokens with 4489 phrases; found: 4413 phrases; correct: 3396.\n",
            "\n",
            "precision:  76.95%; recall:  75.65%; F1:  76.30\n",
            "\n",
            "\t     company: precision:   89.79%; recall:   91.60%; F1:   90.69; predicted:   656\n",
            "\n",
            "\t    facility: precision:   77.97%; recall:   87.90%; F1:   82.63; predicted:   354\n",
            "\n",
            "\t     geo-loc: precision:   90.37%; recall:   97.09%; F1:   93.61; predicted:  1070\n",
            "\n",
            "\t       movie: precision:   59.30%; recall:   75.00%; F1:   66.23; predicted:    86\n",
            "\n",
            "\t musicartist: precision:   74.91%; recall:   87.50%; F1:   80.72; predicted:   271\n",
            "\n",
            "\t       other: precision:    3.73%; recall:    2.25%; F1:    2.80; predicted:   456\n",
            "\n",
            "\t      person: precision:   94.93%; recall:   95.15%; F1:   95.04; predicted:   888\n",
            "\n",
            "\t     product: precision:   65.17%; recall:   82.39%; F1:   72.78; predicted:   402\n",
            "\n",
            "\t  sportsteam: precision:   82.91%; recall:   76.04%; F1:   79.33; predicted:   199\n",
            "\n",
            "\t      tvshow: precision:   74.19%; recall:   39.66%; F1:   51.69; predicted:    31\n",
            "\n"
          ],
          "name": "stdout"
        }
      ]
    },
    {
      "metadata": {
        "id": "S2tlR-6bd9u4",
        "colab_type": "code",
        "colab": {
          "base_uri": "https://localhost:8080/",
          "height": 467
        },
        "outputId": "0da0d247-b963-4f82-c750-be1862d544fb"
      },
      "cell_type": "code",
      "source": [
        "print('-' * 20 + ' Validation set quality: ' + '-' * 20)\n",
        "validation_results = eval_conll(model, sess, validation_tokens, validation_tags, short_report=False)"
      ],
      "execution_count": 38,
      "outputs": [
        {
          "output_type": "stream",
          "text": [
            "-------------------- Validation set quality: --------------------\n",
            "processed 12836 tokens with 537 phrases; found: 521 phrases; correct: 170.\n",
            "\n",
            "precision:  32.63%; recall:  31.66%; F1:  32.14\n",
            "\n",
            "\t     company: precision:   60.00%; recall:   49.04%; F1:   53.97; predicted:    85\n",
            "\n",
            "\t    facility: precision:   42.86%; recall:   44.12%; F1:   43.48; predicted:    35\n",
            "\n",
            "\t     geo-loc: precision:   65.98%; recall:   56.64%; F1:   60.95; predicted:    97\n",
            "\n",
            "\t       movie: precision:    0.00%; recall:    0.00%; F1:    0.00; predicted:    10\n",
            "\n",
            "\t musicartist: precision:    5.95%; recall:   17.86%; F1:    8.93; predicted:    84\n",
            "\n",
            "\t       other: precision:    1.43%; recall:    1.23%; F1:    1.32; predicted:    70\n",
            "\n",
            "\t      person: precision:   43.86%; recall:   22.32%; F1:   29.59; predicted:    57\n",
            "\n",
            "\t     product: precision:    6.06%; recall:   11.76%; F1:    8.00; predicted:    66\n",
            "\n",
            "\t  sportsteam: precision:   31.25%; recall:   25.00%; F1:   27.78; predicted:    16\n",
            "\n",
            "\t      tvshow: precision:    0.00%; recall:    0.00%; F1:    0.00; predicted:     1\n",
            "\n"
          ],
          "name": "stdout"
        }
      ]
    },
    {
      "metadata": {
        "id": "tFV8Ko6Fd9u6",
        "colab_type": "code",
        "colab": {
          "base_uri": "https://localhost:8080/",
          "height": 467
        },
        "outputId": "d1892a3d-c594-42b6-e743-a2b087dacecf"
      },
      "cell_type": "code",
      "source": [
        "print('-' * 20 + ' Test set quality: ' + '-' * 20)\n",
        "test_results = eval_conll(model, sess, test_tokens, test_tags, short_report=False)"
      ],
      "execution_count": 39,
      "outputs": [
        {
          "output_type": "stream",
          "text": [
            "-------------------- Test set quality: --------------------\n",
            "processed 13258 tokens with 604 phrases; found: 640 phrases; correct: 187.\n",
            "\n",
            "precision:  29.22%; recall:  30.96%; F1:  30.06\n",
            "\n",
            "\t     company: precision:   60.00%; recall:   42.86%; F1:   50.00; predicted:    60\n",
            "\n",
            "\t    facility: precision:   32.73%; recall:   38.30%; F1:   35.29; predicted:    55\n",
            "\n",
            "\t     geo-loc: precision:   68.64%; recall:   49.09%; F1:   57.24; predicted:   118\n",
            "\n",
            "\t       movie: precision:    0.00%; recall:    0.00%; F1:    0.00; predicted:    17\n",
            "\n",
            "\t musicartist: precision:    1.95%; recall:   11.11%; F1:    3.31; predicted:   154\n",
            "\n",
            "\t       other: precision:    1.23%; recall:    0.97%; F1:    1.09; predicted:    81\n",
            "\n",
            "\t      person: precision:   55.38%; recall:   34.62%; F1:   42.60; predicted:    65\n",
            "\n",
            "\t     product: precision:    4.23%; recall:   10.71%; F1:    6.06; predicted:    71\n",
            "\n",
            "\t  sportsteam: precision:   47.37%; recall:   29.03%; F1:   36.00; predicted:    19\n",
            "\n",
            "\t      tvshow: precision:    0.00%; recall:    0.00%; F1:    0.00; predicted:     0\n",
            "\n"
          ],
          "name": "stdout"
        }
      ]
    },
    {
      "metadata": {
        "id": "2Ik8Ib6sd9u-",
        "colab_type": "text"
      },
      "cell_type": "markdown",
      "source": [
        "### Results\n",
        "\n",
        "    1. Find tags with the best quality on validation and test data.\n",
        "    \n",
        "company, facility, geo-loc, person\n",
        "    \n",
        "    2. Find tags with the worst quality on validation and test data.\n",
        "    \n",
        "tvshow, product, musicartist, movie\n",
        "    \n",
        "    3. What is the percentage of the correct phrases on test data?\n",
        "    \n",
        "Precision:  **51.91%** - Recall: **40.56%** - F1 Score: **45.54%**"
      ]
    },
    {
      "metadata": {
        "id": "gFX41FFcd9u-",
        "colab_type": "text"
      },
      "cell_type": "markdown",
      "source": [
        "### Conclusions\n",
        "\n",
        "Could we say that our model is state of the art and the results are acceptable for the task? Definately, we can say so. Nowadays, Bi-LSTM is one of the state of the art approaches for solving NER problem and it outperforms other classical methods. Despite the fact that we used small training corpora (in comparison with usual sizes of corpora in Deep Learning), our results are quite good. In addition, in this task there are many possible named entities and for some of them we have only several dozens of trainig examples, which is definately small. However, the implemented model outperforms classical CRFs for this task. Even better results could be obtained by some combinations of several types of methods, e.g. see [this](https://arxiv.org/abs/1603.01354) paper if you are interested."
      ]
    }
  ]
}